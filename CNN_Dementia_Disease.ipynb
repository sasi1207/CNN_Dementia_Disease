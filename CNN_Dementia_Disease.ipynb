{
  "cells": [
    {
      "cell_type": "markdown",
      "id": "51cd5ab9",
      "metadata": {
        "id": "51cd5ab9"
      },
      "source": [
        "# CNN implementation on Dementia Dataset"
      ]
    },
    {
      "cell_type": "code",
      "execution_count": 57,
      "id": "c1af04a8",
      "metadata": {
        "id": "c1af04a8"
      },
      "outputs": [],
      "source": [
        "import numpy as np\n",
        "import tensorflow as tf\n",
        "from tensorflow.keras import layers, models\n",
        "import matplotlib.pyplot as plt\n",
        "from sklearn import metrics\n",
        "from sklearn.model_selection import train_test_split\n",
        "import cv2 as cv\n",
        "import os, sys"
      ]
    },
    {
      "cell_type": "code",
      "source": [
        "from google.colab import drive\n",
        "drive.mount('/content/drive')"
      ],
      "metadata": {
        "colab": {
          "base_uri": "https://localhost:8080/"
        },
        "id": "Jtm50eXUJLMU",
        "outputId": "482a2e06-c7d9-4ea6-8854-f8d1cf1f0830"
      },
      "id": "Jtm50eXUJLMU",
      "execution_count": 58,
      "outputs": [
        {
          "output_type": "stream",
          "name": "stdout",
          "text": [
            "Drive already mounted at /content/drive; to attempt to forcibly remount, call drive.mount(\"/content/drive\", force_remount=True).\n"
          ]
        }
      ]
    },
    {
      "cell_type": "code",
      "execution_count": 59,
      "id": "a821ed6a",
      "metadata": {
        "id": "a821ed6a",
        "colab": {
          "base_uri": "https://localhost:8080/"
        },
        "outputId": "d17803b1-d609-47cd-a5e3-6c4c93c58f12"
      },
      "outputs": [
        {
          "output_type": "stream",
          "name": "stdout",
          "text": [
            "100\n",
            "100\n"
          ]
        }
      ],
      "source": [
        "path1='/content/drive/MyDrive/DementiaDataset/Normal'\n",
        "path2='/content/drive/MyDrive/DementiaDataset/Dementia'\n",
        "files1=os.listdir(path1)\n",
        "files2=os.listdir(path2)\n",
        "Num_files_N=len(files1)\n",
        "Num_files_D=len(files2)\n",
        "print(Num_files_N)\n",
        "print(Num_files_D)\n",
        "dataset_len=Num_files_N+Num_files_D"
      ]
    },
    {
      "cell_type": "code",
      "execution_count": 60,
      "id": "Cb99WnzJVYqd",
      "metadata": {
        "id": "Cb99WnzJVYqd"
      },
      "outputs": [],
      "source": [
        "name=path1+'/'+files1[0]\n",
        "img=cv.imread(name)\n",
        "img_gs=cv.cvtColor(img,cv.COLOR_RGB2GRAY)\n",
        "img_gs_r=cv.resize(img_gs,(100,100))"
      ]
    },
    {
      "cell_type": "code",
      "execution_count": 61,
      "id": "S8vHUIR5VfWP",
      "metadata": {
        "id": "S8vHUIR5VfWP",
        "colab": {
          "base_uri": "https://localhost:8080/",
          "height": 450
        },
        "outputId": "39418c7d-2451-4ab6-82a2-4c922c0903c5"
      },
      "outputs": [
        {
          "output_type": "execute_result",
          "data": {
            "text/plain": [
              "<matplotlib.image.AxesImage at 0x7a185fe0ae60>"
            ]
          },
          "metadata": {},
          "execution_count": 61
        },
        {
          "output_type": "display_data",
          "data": {
            "text/plain": [
              "<Figure size 640x480 with 1 Axes>"
            ],
            "image/png": "[encoded data removed]"
          },
          "metadata": {}
        }
      ],
      "source": [
        "plt.imshow(img_gs_r,cmap='gray')"
      ]
    },
    {
      "cell_type": "markdown",
      "id": "29252846",
      "metadata": {
        "id": "29252846"
      },
      "source": [
        "# Dataset Creation"
      ]
    },
    {
      "cell_type": "markdown",
      "id": "f7cdb862",
      "metadata": {
        "id": "f7cdb862"
      },
      "source": [
        "For every file\n",
        "\n",
        "1. Read the image\n",
        "2. Convert it to grayscale (Optional)\n",
        "3. Resize to (100,100)\n",
        "4. Preprocessing: Normalization\n",
        "5. Reshape to (100,100,1)\n",
        "6. Create the dataset"
      ]
    },
    {
      "cell_type": "code",
      "execution_count": 62,
      "id": "2ead1101",
      "metadata": {
        "colab": {
          "base_uri": "https://localhost:8080/"
        },
        "id": "2ead1101",
        "outputId": "30c80d4d-20da-463b-d493-a0c7df42ffb1"
      },
      "outputs": [
        {
          "output_type": "execute_result",
          "data": {
            "text/plain": [
              "(200, 100, 100, 1)"
            ]
          },
          "metadata": {},
          "execution_count": 62
        }
      ],
      "source": [
        "data=np.zeros((dataset_len,100,100,1))\n",
        "label=[]\n",
        "data.shape"
      ]
    },
    {
      "cell_type": "code",
      "execution_count": 63,
      "id": "24314cc2",
      "metadata": {
        "id": "24314cc2"
      },
      "outputs": [],
      "source": [
        "for i in range(Num_files_N):\n",
        "    name=path1+'/'+files1[i]\n",
        "    img=cv.imread(name)\n",
        "    img_gs=cv.cvtColor(img,cv.COLOR_RGB2GRAY)\n",
        "    img_gs=cv.resize(img_gs,(100,100))\n",
        "    img_gs=img_gs/255\n",
        "    img_gs=img_gs.reshape(100,100,1)\n",
        "    data[i,:,:]=img_gs\n",
        "    label.append('Normal')\n"
      ]
    },
    {
      "cell_type": "code",
      "execution_count": 64,
      "id": "b9df95c2",
      "metadata": {
        "id": "b9df95c2"
      },
      "outputs": [],
      "source": [
        "for i in range(Num_files_D):\n",
        "    name=path2+'/'+files2[i]\n",
        "    img=cv.imread(name)\n",
        "    img_gs=cv.cvtColor(img,cv.COLOR_RGB2GRAY)\n",
        "    img_gs=cv.resize(img_gs,(100,100))\n",
        "    img_gs=img_gs/255\n",
        "    img_gs=img_gs.reshape(100,100,1)\n",
        "    data[i+Num_files_N,:,:]=img_gs\n",
        "    label.append('Dementia')\n"
      ]
    },
    {
      "cell_type": "markdown",
      "id": "a0ee2e56",
      "metadata": {
        "id": "a0ee2e56"
      },
      "source": [
        "Label Encoding"
      ]
    },
    {
      "cell_type": "code",
      "execution_count": 65,
      "id": "ab8c94e7",
      "metadata": {
        "id": "ab8c94e7"
      },
      "outputs": [],
      "source": [
        "from sklearn.preprocessing import LabelEncoder\n",
        "le=LabelEncoder()\n",
        "lab=le.fit_transform(label)"
      ]
    },
    {
      "cell_type": "code",
      "execution_count": 66,
      "id": "2869770e",
      "metadata": {
        "id": "2869770e",
        "colab": {
          "base_uri": "https://localhost:8080/"
        },
        "outputId": "88ffce64-f639-4614-d67e-5802829c00f9"
      },
      "outputs": [
        {
          "output_type": "execute_result",
          "data": {
            "text/plain": [
              "['Normal',\n",
              " 'Normal',\n",
              " 'Normal',\n",
              " 'Normal',\n",
              " 'Normal',\n",
              " 'Normal',\n",
              " 'Normal',\n",
              " 'Normal',\n",
              " 'Normal',\n",
              " 'Normal',\n",
              " 'Normal',\n",
              " 'Normal',\n",
              " 'Normal',\n",
              " 'Normal',\n",
              " 'Normal',\n",
              " 'Normal',\n",
              " 'Normal',\n",
              " 'Normal',\n",
              " 'Normal',\n",
              " 'Normal',\n",
              " 'Normal',\n",
              " 'Normal',\n",
              " 'Normal',\n",
              " 'Normal',\n",
              " 'Normal',\n",
              " 'Normal',\n",
              " 'Normal',\n",
              " 'Normal',\n",
              " 'Normal',\n",
              " 'Normal',\n",
              " 'Normal',\n",
              " 'Normal',\n",
              " 'Normal',\n",
              " 'Normal',\n",
              " 'Normal',\n",
              " 'Normal',\n",
              " 'Normal',\n",
              " 'Normal',\n",
              " 'Normal',\n",
              " 'Normal',\n",
              " 'Normal',\n",
              " 'Normal',\n",
              " 'Normal',\n",
              " 'Normal',\n",
              " 'Normal',\n",
              " 'Normal',\n",
              " 'Normal',\n",
              " 'Normal',\n",
              " 'Normal',\n",
              " 'Normal',\n",
              " 'Normal',\n",
              " 'Normal',\n",
              " 'Normal',\n",
              " 'Normal',\n",
              " 'Normal',\n",
              " 'Normal',\n",
              " 'Normal',\n",
              " 'Normal',\n",
              " 'Normal',\n",
              " 'Normal',\n",
              " 'Normal',\n",
              " 'Normal',\n",
              " 'Normal',\n",
              " 'Normal',\n",
              " 'Normal',\n",
              " 'Normal',\n",
              " 'Normal',\n",
              " 'Normal',\n",
              " 'Normal',\n",
              " 'Normal',\n",
              " 'Normal',\n",
              " 'Normal',\n",
              " 'Normal',\n",
              " 'Normal',\n",
              " 'Normal',\n",
              " 'Normal',\n",
              " 'Normal',\n",
              " 'Normal',\n",
              " 'Normal',\n",
              " 'Normal',\n",
              " 'Normal',\n",
              " 'Normal',\n",
              " 'Normal',\n",
              " 'Normal',\n",
              " 'Normal',\n",
              " 'Normal',\n",
              " 'Normal',\n",
              " 'Normal',\n",
              " 'Normal',\n",
              " 'Normal',\n",
              " 'Normal',\n",
              " 'Normal',\n",
              " 'Normal',\n",
              " 'Normal',\n",
              " 'Normal',\n",
              " 'Normal',\n",
              " 'Normal',\n",
              " 'Normal',\n",
              " 'Normal',\n",
              " 'Normal',\n",
              " 'Dementia',\n",
              " 'Dementia',\n",
              " 'Dementia',\n",
              " 'Dementia',\n",
              " 'Dementia',\n",
              " 'Dementia',\n",
              " 'Dementia',\n",
              " 'Dementia',\n",
              " 'Dementia',\n",
              " 'Dementia',\n",
              " 'Dementia',\n",
              " 'Dementia',\n",
              " 'Dementia',\n",
              " 'Dementia',\n",
              " 'Dementia',\n",
              " 'Dementia',\n",
              " 'Dementia',\n",
              " 'Dementia',\n",
              " 'Dementia',\n",
              " 'Dementia',\n",
              " 'Dementia',\n",
              " 'Dementia',\n",
              " 'Dementia',\n",
              " 'Dementia',\n",
              " 'Dementia',\n",
              " 'Dementia',\n",
              " 'Dementia',\n",
              " 'Dementia',\n",
              " 'Dementia',\n",
              " 'Dementia',\n",
              " 'Dementia',\n",
              " 'Dementia',\n",
              " 'Dementia',\n",
              " 'Dementia',\n",
              " 'Dementia',\n",
              " 'Dementia',\n",
              " 'Dementia',\n",
              " 'Dementia',\n",
              " 'Dementia',\n",
              " 'Dementia',\n",
              " 'Dementia',\n",
              " 'Dementia',\n",
              " 'Dementia',\n",
              " 'Dementia',\n",
              " 'Dementia',\n",
              " 'Dementia',\n",
              " 'Dementia',\n",
              " 'Dementia',\n",
              " 'Dementia',\n",
              " 'Dementia',\n",
              " 'Dementia',\n",
              " 'Dementia',\n",
              " 'Dementia',\n",
              " 'Dementia',\n",
              " 'Dementia',\n",
              " 'Dementia',\n",
              " 'Dementia',\n",
              " 'Dementia',\n",
              " 'Dementia',\n",
              " 'Dementia',\n",
              " 'Dementia',\n",
              " 'Dementia',\n",
              " 'Dementia',\n",
              " 'Dementia',\n",
              " 'Dementia',\n",
              " 'Dementia',\n",
              " 'Dementia',\n",
              " 'Dementia',\n",
              " 'Dementia',\n",
              " 'Dementia',\n",
              " 'Dementia',\n",
              " 'Dementia',\n",
              " 'Dementia',\n",
              " 'Dementia',\n",
              " 'Dementia',\n",
              " 'Dementia',\n",
              " 'Dementia',\n",
              " 'Dementia',\n",
              " 'Dementia',\n",
              " 'Dementia',\n",
              " 'Dementia',\n",
              " 'Dementia',\n",
              " 'Dementia',\n",
              " 'Dementia',\n",
              " 'Dementia',\n",
              " 'Dementia',\n",
              " 'Dementia',\n",
              " 'Dementia',\n",
              " 'Dementia',\n",
              " 'Dementia',\n",
              " 'Dementia',\n",
              " 'Dementia',\n",
              " 'Dementia',\n",
              " 'Dementia',\n",
              " 'Dementia',\n",
              " 'Dementia',\n",
              " 'Dementia',\n",
              " 'Dementia',\n",
              " 'Dementia',\n",
              " 'Dementia']"
            ]
          },
          "metadata": {},
          "execution_count": 66
        }
      ],
      "source": [
        "label"
      ]
    },
    {
      "cell_type": "code",
      "execution_count": 67,
      "id": "1af2bd04",
      "metadata": {
        "id": "1af2bd04",
        "colab": {
          "base_uri": "https://localhost:8080/"
        },
        "outputId": "eb0f1c9e-188f-4f26-b822-a04ec0b70642"
      },
      "outputs": [
        {
          "output_type": "execute_result",
          "data": {
            "text/plain": [
              "array([1, 1, 1, 1, 1, 1, 1, 1, 1, 1, 1, 1, 1, 1, 1, 1, 1, 1, 1, 1, 1, 1,\n",
              "       1, 1, 1, 1, 1, 1, 1, 1, 1, 1, 1, 1, 1, 1, 1, 1, 1, 1, 1, 1, 1, 1,\n",
              "       1, 1, 1, 1, 1, 1, 1, 1, 1, 1, 1, 1, 1, 1, 1, 1, 1, 1, 1, 1, 1, 1,\n",
              "       1, 1, 1, 1, 1, 1, 1, 1, 1, 1, 1, 1, 1, 1, 1, 1, 1, 1, 1, 1, 1, 1,\n",
              "       1, 1, 1, 1, 1, 1, 1, 1, 1, 1, 1, 1, 0, 0, 0, 0, 0, 0, 0, 0, 0, 0,\n",
              "       0, 0, 0, 0, 0, 0, 0, 0, 0, 0, 0, 0, 0, 0, 0, 0, 0, 0, 0, 0, 0, 0,\n",
              "       0, 0, 0, 0, 0, 0, 0, 0, 0, 0, 0, 0, 0, 0, 0, 0, 0, 0, 0, 0, 0, 0,\n",
              "       0, 0, 0, 0, 0, 0, 0, 0, 0, 0, 0, 0, 0, 0, 0, 0, 0, 0, 0, 0, 0, 0,\n",
              "       0, 0, 0, 0, 0, 0, 0, 0, 0, 0, 0, 0, 0, 0, 0, 0, 0, 0, 0, 0, 0, 0,\n",
              "       0, 0])"
            ]
          },
          "metadata": {},
          "execution_count": 67
        }
      ],
      "source": [
        "lab"
      ]
    },
    {
      "cell_type": "markdown",
      "id": "3536af9f",
      "metadata": {
        "id": "3536af9f"
      },
      "source": [
        "Train and test dataset spilt"
      ]
    },
    {
      "cell_type": "code",
      "execution_count": 68,
      "id": "0e55f94c",
      "metadata": {
        "id": "0e55f94c"
      },
      "outputs": [],
      "source": [
        "train_images,test_images,train_labels,test_labels=train_test_split(data,lab,test_size=0.2, random_state=1)"
      ]
    },
    {
      "cell_type": "code",
      "execution_count": 69,
      "id": "a41742ca",
      "metadata": {
        "id": "a41742ca",
        "colab": {
          "base_uri": "https://localhost:8080/"
        },
        "outputId": "e29903f6-c19d-4eca-b29f-63ef24f8d33c"
      },
      "outputs": [
        {
          "output_type": "execute_result",
          "data": {
            "text/plain": [
              "array([0, 0, 0, 1, 1, 1, 0, 1, 0, 0, 1, 0, 0, 1, 1, 0, 0, 0, 0, 0, 0, 1,\n",
              "       1, 1, 1, 1, 0, 0, 1, 1, 1, 1, 0, 0, 0, 0, 1, 0, 1, 0, 0, 1, 1, 0,\n",
              "       0, 1, 1, 0, 0, 1, 1, 1, 0, 0, 0, 0, 0, 0, 0, 0, 1, 1, 1, 0, 1, 1,\n",
              "       1, 0, 1, 0, 1, 0, 1, 1, 1, 0, 1, 0, 1, 1, 1, 1, 0, 0, 0, 1, 0, 0,\n",
              "       0, 1, 1, 1, 0, 0, 0, 1, 0, 1, 0, 0, 0, 0, 0, 0, 1, 1, 1, 0, 0, 1,\n",
              "       1, 1, 1, 1, 1, 1, 0, 1, 0, 0, 0, 1, 0, 0, 0, 1, 1, 0, 1, 1, 1, 1,\n",
              "       1, 1, 0, 0, 1, 1, 1, 1, 0, 0, 0, 0, 0, 0, 1, 0, 1, 0, 1, 0, 0, 0,\n",
              "       1, 0, 0, 1, 0, 1])"
            ]
          },
          "metadata": {},
          "execution_count": 69
        }
      ],
      "source": [
        "train_labels"
      ]
    },
    {
      "cell_type": "code",
      "execution_count": 70,
      "id": "001342f9",
      "metadata": {
        "colab": {
          "base_uri": "https://localhost:8080/"
        },
        "id": "001342f9",
        "outputId": "fc6a8825-766d-40b1-da68-e8886c24ffb1"
      },
      "outputs": [
        {
          "output_type": "stream",
          "name": "stdout",
          "text": [
            "Train Dataset Size: 160\n",
            "Test Dataset Size: 40\n"
          ]
        }
      ],
      "source": [
        "print('Train Dataset Size:',np.size(train_labels))\n",
        "print('Test Dataset Size:',np.size(test_labels))"
      ]
    },
    {
      "cell_type": "code",
      "execution_count": 71,
      "id": "b9796106",
      "metadata": {
        "colab": {
          "base_uri": "https://localhost:8080/"
        },
        "id": "b9796106",
        "outputId": "4932d4c7-09c1-485a-d9f0-26253c995aa2"
      },
      "outputs": [
        {
          "output_type": "execute_result",
          "data": {
            "text/plain": [
              "(array([0, 1]), array([17, 23]))"
            ]
          },
          "metadata": {},
          "execution_count": 71
        }
      ],
      "source": [
        "np.unique(test_labels,return_counts=True)"
      ]
    },
    {
      "cell_type": "markdown",
      "id": "33a6d409",
      "metadata": {
        "id": "33a6d409"
      },
      "source": [
        "# Define the CNN architecture"
      ]
    },
    {
      "cell_type": "markdown",
      "id": "73ab126f",
      "metadata": {
        "id": "73ab126f"
      },
      "source": [
        "Create the convolutional base\n",
        "\n",
        "1. Convolutional : 32 filters 3x3\n",
        "2. Maxpooling: 2x2\n",
        "3. Convolutional : 64 filters 5x5\n",
        "4. Convolutional : 32 filters 3x3\n",
        "5. Maxpooling: 3x3\n"
      ]
    },
    {
      "cell_type": "code",
      "execution_count": 72,
      "id": "01322894",
      "metadata": {
        "id": "01322894"
      },
      "outputs": [],
      "source": [
        "network=models.Sequential()\n",
        "network.add(layers.Conv2D(32,(3,3),activation='relu', input_shape=(100,100,1)))\n",
        "network.add(layers.MaxPooling2D((2,2)))\n",
        "network.add(layers.Conv2D(64,(7,7),activation='relu'))\n",
        "network.add(layers.Conv2D(32,(3,3),activation='relu'))\n",
        "network.add(layers.MaxPooling2D((3,3)))"
      ]
    },
    {
      "cell_type": "markdown",
      "id": "0fa63e7a",
      "metadata": {
        "id": "0fa63e7a"
      },
      "source": [
        "Check summary of convolutional base"
      ]
    },
    {
      "cell_type": "code",
      "execution_count": 73,
      "id": "0e8ac882",
      "metadata": {
        "id": "0e8ac882",
        "colab": {
          "base_uri": "https://localhost:8080/"
        },
        "outputId": "3402b27f-e9cb-4edb-ff64-87b24125d87a"
      },
      "outputs": [
        {
          "output_type": "stream",
          "name": "stdout",
          "text": [
            "Model: \"sequential_1\"\n",
            "_________________________________________________________________\n",
            " Layer (type)                Output Shape              Param #   \n",
            "=================================================================\n",
            " conv2d_3 (Conv2D)           (None, 98, 98, 32)        320       \n",
            "                                                                 \n",
            " max_pooling2d_2 (MaxPooling  (None, 49, 49, 32)       0         \n",
            " 2D)                                                             \n",
            "                                                                 \n",
            " conv2d_4 (Conv2D)           (None, 43, 43, 64)        100416    \n",
            "                                                                 \n",
            " conv2d_5 (Conv2D)           (None, 41, 41, 32)        18464     \n",
            "                                                                 \n",
            " max_pooling2d_3 (MaxPooling  (None, 13, 13, 32)       0         \n",
            " 2D)                                                             \n",
            "                                                                 \n",
            "=================================================================\n",
            "Total params: 119,200\n",
            "Trainable params: 119,200\n",
            "Non-trainable params: 0\n",
            "_________________________________________________________________\n"
          ]
        }
      ],
      "source": [
        "network.summary()"
      ]
    },
    {
      "cell_type": "markdown",
      "id": "7e49eab1",
      "metadata": {
        "id": "7e49eab1"
      },
      "source": [
        "Build the classifier on top of the convolutional base"
      ]
    },
    {
      "cell_type": "code",
      "execution_count": 74,
      "id": "99a58d24",
      "metadata": {
        "id": "99a58d24"
      },
      "outputs": [],
      "source": [
        "network.add(layers.Flatten())\n",
        "network.add(layers.Dense(80,activation='relu'))\n",
        "network.add(layers.Dense(50,activation='relu'))\n",
        "network.add(layers.Dense(2,activation='softmax'))"
      ]
    },
    {
      "cell_type": "code",
      "execution_count": 75,
      "id": "7f7ba93f",
      "metadata": {
        "colab": {
          "base_uri": "https://localhost:8080/"
        },
        "id": "7f7ba93f",
        "outputId": "7c2d0b50-12fc-405b-d285-f0225df440f0"
      },
      "outputs": [
        {
          "output_type": "stream",
          "name": "stdout",
          "text": [
            "Model: \"sequential_1\"\n",
            "_________________________________________________________________\n",
            " Layer (type)                Output Shape              Param #   \n",
            "=================================================================\n",
            " conv2d_3 (Conv2D)           (None, 98, 98, 32)        320       \n",
            "                                                                 \n",
            " max_pooling2d_2 (MaxPooling  (None, 49, 49, 32)       0         \n",
            " 2D)                                                             \n",
            "                                                                 \n",
            " conv2d_4 (Conv2D)           (None, 43, 43, 64)        100416    \n",
            "                                                                 \n",
            " conv2d_5 (Conv2D)           (None, 41, 41, 32)        18464     \n",
            "                                                                 \n",
            " max_pooling2d_3 (MaxPooling  (None, 13, 13, 32)       0         \n",
            " 2D)                                                             \n",
            "                                                                 \n",
            " flatten_1 (Flatten)         (None, 5408)              0         \n",
            "                                                                 \n",
            " dense_3 (Dense)             (None, 80)                432720    \n",
            "                                                                 \n",
            " dense_4 (Dense)             (None, 50)                4050      \n",
            "                                                                 \n",
            " dense_5 (Dense)             (None, 2)                 102       \n",
            "                                                                 \n",
            "=================================================================\n",
            "Total params: 556,072\n",
            "Trainable params: 556,072\n",
            "Non-trainable params: 0\n",
            "_________________________________________________________________\n"
          ]
        }
      ],
      "source": [
        "network.summary()"
      ]
    },
    {
      "cell_type": "markdown",
      "id": "bf809688",
      "metadata": {
        "id": "bf809688"
      },
      "source": [
        "Compile and train the model"
      ]
    },
    {
      "cell_type": "code",
      "execution_count": 76,
      "id": "226df6b8",
      "metadata": {
        "id": "226df6b8"
      },
      "outputs": [],
      "source": [
        "network.compile(optimizer='sgd',loss='sparse_categorical_crossentropy',metrics=['accuracy'])"
      ]
    },
    {
      "cell_type": "code",
      "execution_count": 77,
      "id": "a02dcf5a",
      "metadata": {
        "id": "a02dcf5a",
        "colab": {
          "base_uri": "https://localhost:8080/"
        },
        "outputId": "47ab25c5-c088-4673-a435-d102be05ae4d"
      },
      "outputs": [
        {
          "output_type": "stream",
          "name": "stdout",
          "text": [
            "Epoch 1/25\n",
            "5/5 [==============================] - 11s 2s/step - loss: 0.6970 - accuracy: 0.4875 - val_loss: 0.6959 - val_accuracy: 0.4250\n",
            "Epoch 2/25\n",
            "5/5 [==============================] - 8s 2s/step - loss: 0.6910 - accuracy: 0.4938 - val_loss: 0.6935 - val_accuracy: 0.4250\n",
            "Epoch 3/25\n",
            "5/5 [==============================] - 9s 2s/step - loss: 0.6872 - accuracy: 0.5312 - val_loss: 0.6827 - val_accuracy: 0.7250\n",
            "Epoch 4/25\n",
            "5/5 [==============================] - 10s 2s/step - loss: 0.6873 - accuracy: 0.5188 - val_loss: 0.6886 - val_accuracy: 0.4500\n",
            "Epoch 5/25\n",
            "5/5 [==============================] - 8s 2s/step - loss: 0.6829 - accuracy: 0.5250 - val_loss: 0.6811 - val_accuracy: 0.7750\n",
            "Epoch 6/25\n",
            "5/5 [==============================] - 10s 2s/step - loss: 0.6802 - accuracy: 0.7625 - val_loss: 0.6820 - val_accuracy: 0.6250\n",
            "Epoch 7/25\n",
            "5/5 [==============================] - 11s 2s/step - loss: 0.6787 - accuracy: 0.6625 - val_loss: 0.6756 - val_accuracy: 0.8000\n",
            "Epoch 8/25\n",
            "5/5 [==============================] - 8s 1s/step - loss: 0.6756 - accuracy: 0.7063 - val_loss: 0.6728 - val_accuracy: 0.8000\n",
            "Epoch 9/25\n",
            "5/5 [==============================] - 9s 2s/step - loss: 0.6723 - accuracy: 0.7250 - val_loss: 0.6747 - val_accuracy: 0.7500\n",
            "Epoch 10/25\n",
            "5/5 [==============================] - 7s 1s/step - loss: 0.6696 - accuracy: 0.7375 - val_loss: 0.6734 - val_accuracy: 0.6500\n",
            "Epoch 11/25\n",
            "5/5 [==============================] - 9s 2s/step - loss: 0.6726 - accuracy: 0.7312 - val_loss: 0.6591 - val_accuracy: 0.7250\n",
            "Epoch 12/25\n",
            "5/5 [==============================] - 7s 2s/step - loss: 0.6627 - accuracy: 0.7312 - val_loss: 0.6726 - val_accuracy: 0.6250\n",
            "Epoch 13/25\n",
            "5/5 [==============================] - 9s 2s/step - loss: 0.6631 - accuracy: 0.6625 - val_loss: 0.6613 - val_accuracy: 0.7500\n",
            "Epoch 14/25\n",
            "5/5 [==============================] - 7s 1s/step - loss: 0.6599 - accuracy: 0.7437 - val_loss: 0.6544 - val_accuracy: 0.8250\n",
            "Epoch 15/25\n",
            "5/5 [==============================] - 9s 2s/step - loss: 0.6586 - accuracy: 0.7500 - val_loss: 0.6662 - val_accuracy: 0.6250\n",
            "Epoch 16/25\n",
            "5/5 [==============================] - 9s 2s/step - loss: 0.6494 - accuracy: 0.7125 - val_loss: 0.6760 - val_accuracy: 0.4500\n",
            "Epoch 17/25\n",
            "5/5 [==============================] - 8s 1s/step - loss: 0.6468 - accuracy: 0.7250 - val_loss: 0.6994 - val_accuracy: 0.4250\n",
            "Epoch 18/25\n",
            "5/5 [==============================] - 9s 2s/step - loss: 0.6487 - accuracy: 0.6938 - val_loss: 0.6446 - val_accuracy: 0.7750\n",
            "Epoch 19/25\n",
            "5/5 [==============================] - 7s 1s/step - loss: 0.6387 - accuracy: 0.7000 - val_loss: 0.6396 - val_accuracy: 0.7750\n",
            "Epoch 20/25\n",
            "5/5 [==============================] - 9s 2s/step - loss: 0.6352 - accuracy: 0.7500 - val_loss: 0.6208 - val_accuracy: 0.7750\n",
            "Epoch 21/25\n",
            "5/5 [==============================] - 7s 1s/step - loss: 0.6466 - accuracy: 0.6500 - val_loss: 0.6157 - val_accuracy: 0.7750\n",
            "Epoch 22/25\n",
            "5/5 [==============================] - 10s 2s/step - loss: 0.6222 - accuracy: 0.8125 - val_loss: 0.6100 - val_accuracy: 0.7750\n",
            "Epoch 23/25\n",
            "5/5 [==============================] - 9s 2s/step - loss: 0.6357 - accuracy: 0.6125 - val_loss: 0.6057 - val_accuracy: 0.7750\n",
            "Epoch 24/25\n",
            "5/5 [==============================] - 8s 1s/step - loss: 0.6031 - accuracy: 0.8250 - val_loss: 0.6029 - val_accuracy: 0.8000\n",
            "Epoch 25/25\n",
            "5/5 [==============================] - 9s 2s/step - loss: 0.5953 - accuracy: 0.8313 - val_loss: 0.5863 - val_accuracy: 0.7750\n"
          ]
        }
      ],
      "source": [
        "trained_network=network.fit(train_images,train_labels,epochs=25,validation_data=(test_images,test_labels))"
      ]
    },
    {
      "cell_type": "code",
      "execution_count": 78,
      "id": "e5039efe",
      "metadata": {
        "id": "e5039efe",
        "colab": {
          "base_uri": "https://localhost:8080/",
          "height": 466
        },
        "outputId": "92d37085-8e08-4dd8-a73b-c5c309ea18e5"
      },
      "outputs": [
        {
          "output_type": "execute_result",
          "data": {
            "text/plain": [
              "<matplotlib.legend.Legend at 0x7a185f7ecb20>"
            ]
          },
          "metadata": {},
          "execution_count": 78
        },
        {
          "output_type": "display_data",
          "data": {
            "text/plain": [
              "<Figure size 640x480 with 1 Axes>"
            ],
            "image/png": "[encoded data removed]"
          },
          "metadata": {}
        }
      ],
      "source": [
        "plt.plot(trained_network.history['accuracy'],label='Training Accuracy')\n",
        "plt.plot(trained_network.history['val_accuracy'],label='Validation Accuracy')\n",
        "plt.xlabel('Epoch')\n",
        "plt.ylabel('Accuracy')\n",
        "plt.ylim([0,1.1])\n",
        "plt.legend(loc='lower right')"
      ]
    },
    {
      "cell_type": "code",
      "execution_count": 79,
      "id": "44db3a23",
      "metadata": {
        "id": "44db3a23",
        "colab": {
          "base_uri": "https://localhost:8080/",
          "height": 466
        },
        "outputId": "fe881e61-2009-40ec-cec3-366234c61860"
      },
      "outputs": [
        {
          "output_type": "execute_result",
          "data": {
            "text/plain": [
              "<matplotlib.legend.Legend at 0x7a185ff18a30>"
            ]
          },
          "metadata": {},
          "execution_count": 79
        },
        {
          "output_type": "display_data",
          "data": {
            "text/plain": [
              "<Figure size 640x480 with 1 Axes>"
            ],
            "image/png": "[encoded data removed]"
          },
          "metadata": {}
        }
      ],
      "source": [
        "plt.plot(trained_network.history['loss'],label='Training Loss')\n",
        "plt.plot(trained_network.history['val_loss'],label='Validation Loss')\n",
        "plt.xlabel('Epoch')\n",
        "plt.ylabel('Loss')\n",
        "plt.legend(loc='upper right')"
      ]
    },
    {
      "cell_type": "markdown",
      "id": "656e1c17",
      "metadata": {
        "id": "656e1c17"
      },
      "source": [
        "Evaluate the network"
      ]
    },
    {
      "cell_type": "code",
      "execution_count": 80,
      "id": "2476b8e5",
      "metadata": {
        "id": "2476b8e5",
        "colab": {
          "base_uri": "https://localhost:8080/"
        },
        "outputId": "ca567c74-f7ca-4183-bd38-8fe0c73ba92e"
      },
      "outputs": [
        {
          "output_type": "stream",
          "name": "stdout",
          "text": [
            "2/2 [==============================] - 0s 98ms/step - loss: 0.5863 - accuracy: 0.7750\n"
          ]
        }
      ],
      "source": [
        "test_loss,test_acc=network.evaluate(test_images,test_labels)"
      ]
    },
    {
      "cell_type": "code",
      "execution_count": 81,
      "id": "aa6cec7b",
      "metadata": {
        "id": "aa6cec7b",
        "colab": {
          "base_uri": "https://localhost:8080/"
        },
        "outputId": "a545dae1-338e-4923-9817-7d495594798f"
      },
      "outputs": [
        {
          "output_type": "stream",
          "name": "stdout",
          "text": [
            "2/2 [==============================] - 1s 101ms/step\n"
          ]
        }
      ],
      "source": [
        "y_predict=network.predict(test_images)"
      ]
    },
    {
      "cell_type": "code",
      "execution_count": 82,
      "id": "I8a6g2Uy2EYY",
      "metadata": {
        "id": "I8a6g2Uy2EYY",
        "colab": {
          "base_uri": "https://localhost:8080/"
        },
        "outputId": "e738139b-f8c6-42b9-a385-811deaeae409"
      },
      "outputs": [
        {
          "output_type": "execute_result",
          "data": {
            "text/plain": [
              "array([[0.374917  , 0.62508297],\n",
              "       [0.5279351 , 0.4720649 ],\n",
              "       [0.47127947, 0.52872056],\n",
              "       [0.5496501 , 0.45034984],\n",
              "       [0.35988036, 0.6401196 ],\n",
              "       [0.42483065, 0.5751693 ],\n",
              "       [0.36724147, 0.63275856],\n",
              "       [0.41150707, 0.58849293],\n",
              "       [0.4810947 , 0.5189054 ],\n",
              "       [0.5535151 , 0.44648483],\n",
              "       [0.47413486, 0.5258652 ],\n",
              "       [0.5067468 , 0.49325317],\n",
              "       [0.3169889 , 0.68301105],\n",
              "       [0.38374546, 0.61625457],\n",
              "       [0.47241655, 0.5275835 ],\n",
              "       [0.52708614, 0.47291377],\n",
              "       [0.5208726 , 0.4791274 ],\n",
              "       [0.35200694, 0.647993  ],\n",
              "       [0.46002546, 0.53997463],\n",
              "       [0.41671893, 0.58328104],\n",
              "       [0.34850067, 0.65149933],\n",
              "       [0.37003264, 0.6299674 ],\n",
              "       [0.34228513, 0.6577149 ],\n",
              "       [0.34707293, 0.6529271 ],\n",
              "       [0.33174267, 0.6682573 ],\n",
              "       [0.5228385 , 0.4771615 ],\n",
              "       [0.4778066 , 0.5221933 ],\n",
              "       [0.3167497 , 0.68325025],\n",
              "       [0.51942027, 0.48057973],\n",
              "       [0.4415595 , 0.55844045],\n",
              "       [0.3617076 , 0.6382924 ],\n",
              "       [0.53603846, 0.46396145],\n",
              "       [0.546797  , 0.4532029 ],\n",
              "       [0.47250357, 0.5274965 ],\n",
              "       [0.45141667, 0.5485833 ],\n",
              "       [0.38644606, 0.613554  ],\n",
              "       [0.5182392 , 0.4817609 ],\n",
              "       [0.29923415, 0.7007658 ],\n",
              "       [0.32554352, 0.6744565 ],\n",
              "       [0.54868835, 0.45131174]], dtype=float32)"
            ]
          },
          "metadata": {},
          "execution_count": 82
        }
      ],
      "source": [
        "y_predict"
      ]
    },
    {
      "cell_type": "code",
      "execution_count": 83,
      "id": "cb5ef5da",
      "metadata": {
        "id": "cb5ef5da"
      },
      "outputs": [],
      "source": [
        "y_pred=[]\n",
        "for val in y_predict:\n",
        "    y_pred.append(np.argmax(val))"
      ]
    },
    {
      "cell_type": "code",
      "execution_count": 84,
      "id": "r3TC5xm82KtN",
      "metadata": {
        "id": "r3TC5xm82KtN",
        "colab": {
          "base_uri": "https://localhost:8080/"
        },
        "outputId": "d8351371-bd11-41b5-941b-9659a234ac70"
      },
      "outputs": [
        {
          "output_type": "execute_result",
          "data": {
            "text/plain": [
              "[1,\n",
              " 0,\n",
              " 1,\n",
              " 0,\n",
              " 1,\n",
              " 1,\n",
              " 1,\n",
              " 1,\n",
              " 1,\n",
              " 0,\n",
              " 1,\n",
              " 0,\n",
              " 1,\n",
              " 1,\n",
              " 1,\n",
              " 0,\n",
              " 0,\n",
              " 1,\n",
              " 1,\n",
              " 1,\n",
              " 1,\n",
              " 1,\n",
              " 1,\n",
              " 1,\n",
              " 1,\n",
              " 0,\n",
              " 1,\n",
              " 1,\n",
              " 0,\n",
              " 1,\n",
              " 1,\n",
              " 0,\n",
              " 0,\n",
              " 1,\n",
              " 1,\n",
              " 1,\n",
              " 0,\n",
              " 1,\n",
              " 1,\n",
              " 0]"
            ]
          },
          "metadata": {},
          "execution_count": 84
        }
      ],
      "source": [
        "y_pred"
      ]
    },
    {
      "cell_type": "code",
      "execution_count": 85,
      "id": "51b9d88d",
      "metadata": {
        "id": "51b9d88d",
        "colab": {
          "base_uri": "https://localhost:8080/"
        },
        "outputId": "d08f8518-2879-4aeb-d8f9-14c10d442428"
      },
      "outputs": [
        {
          "output_type": "stream",
          "name": "stdout",
          "text": [
            "[[10  7]\n",
            " [ 2 21]]\n"
          ]
        }
      ],
      "source": [
        "print(metrics.confusion_matrix(test_labels,y_pred))"
      ]
    },
    {
      "cell_type": "code",
      "execution_count": 86,
      "id": "cce68d11",
      "metadata": {
        "id": "cce68d11",
        "scrolled": true,
        "colab": {
          "base_uri": "https://localhost:8080/"
        },
        "outputId": "b3643cc8-c774-42b8-f7cd-179ebc9e195f"
      },
      "outputs": [
        {
          "output_type": "stream",
          "name": "stdout",
          "text": [
            "0.775\n"
          ]
        }
      ],
      "source": [
        "print(metrics.accuracy_score(test_labels,y_pred))"
      ]
    }
  ],
  "metadata": {
    "colab": {
      "provenance": []
    },
    "kernelspec": {
      "display_name": "Python 3 (ipykernel)",
      "language": "python",
      "name": "python3"
    },
    "language_info": {
      "codemirror_mode": {
        "name": "ipython",
        "version": 3
      },
      "file_extension": ".py",
      "mimetype": "text/x-python",
      "name": "python",
      "nbconvert_exporter": "python",
      "pygments_lexer": "ipython3",
      "version": "3.10.9"
    }
  },
  "nbformat": 4,
  "nbformat_minor": 5
}